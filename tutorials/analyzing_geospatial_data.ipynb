{
 "cells": [
  {
   "cell_type": "markdown",
   "metadata": {},
   "source": [
    "# Analyzing Geospatial Data (Parks)\n",
    "\n",
    "This tutorial demostrates how to work with and analyze geospatial data ([spatial analytics](https://en.wikipedia.org/wiki/Spatial_analysis)) in Python to derive insights about place. Specifically, we will use NYC's open data platform to download park locations across the city, merge this with income level data, and then display simple insights about the relationship between open space (parks) and income.\n",
    "\n",
    "*Note: this example assumes you have the necessary Python librararies installed while doing the [Mapping Census Data](https://nbviewer.jupyter.org/github/carlobailey/urban-data-science/blob/gh-pages/tutorials/Mapping_Census_Data.ipynb) tutorial.*"
   ]
  },
  {
   "cell_type": "markdown",
   "metadata": {},
   "source": [
    "### Step 1: Downloading open space (parks) data and installing SODA\n",
    "\n",
    "We will begin by importing all the necessary libraries and calling the Socrata API (1) to access the data directly in this notebook.\n",
    "\n",
    "You will also need to install the following:\n",
    "- [soda](https://pypi.org/project/sodapy/)\n",
    "- [scipy](https://www.scipy.org/install.html) \n",
    "\n",
    "\n",
    "*(1) The [Socrata API](https://dev.socrata.com/) gives programmers, researchers, or any member of the public the ability to access government data programatically (through code).*"
   ]
  },
  {
   "cell_type": "code",
   "execution_count": 1,
   "metadata": {},
   "outputs": [],
   "source": [
    "import os\n",
    "import pandas as pd\n",
    "import numpy as np\n",
    "import warnings\n",
    "warnings.filterwarnings(\"ignore\")\n",
    "import geopandas as gpd\n",
    "import matplotlib.pyplot as plt\n",
    "from sodapy import Socrata\n",
    "import cenpy\n",
    "from shapely.geometry import shape\n",
    "from scipy.stats import pearsonr"
   ]
  },
  {
   "cell_type": "code",
   "execution_count": 2,
   "metadata": {},
   "outputs": [
    {
     "name": "stderr",
     "output_type": "stream",
     "text": [
      "WARNING:root:Requests made without an app_token will be subject to strict throttling limits.\n"
     ]
    }
   ],
   "source": [
    "client = Socrata(\"data.cityofnewyork.us\", None)"
   ]
  },
  {
   "cell_type": "code",
   "execution_count": 3,
   "metadata": {},
   "outputs": [],
   "source": [
    "# request park geo data: instructions https://dev.socrata.com/foundry/data.cityofnewyork.us/y6ja-fw4f\n",
    "results = client.get(\"y6ja-fw4f\", limit=20000)\n",
    "park_df = pd.DataFrame.from_records(results)"
   ]
  },
  {
   "cell_type": "code",
   "execution_count": 4,
   "metadata": {},
   "outputs": [],
   "source": [
    "park_df['the_geom'] = park_df['the_geom'].apply(lambda x: shape(x))"
   ]
  },
  {
   "cell_type": "code",
   "execution_count": 5,
   "metadata": {},
   "outputs": [
    {
     "name": "stdout",
     "output_type": "stream",
     "text": [
      "(12491, 11)\n"
     ]
    },
    {
     "data": {
      "text/html": [
       "<div>\n",
       "<style scoped>\n",
       "    .dataframe tbody tr th:only-of-type {\n",
       "        vertical-align: middle;\n",
       "    }\n",
       "\n",
       "    .dataframe tbody tr th {\n",
       "        vertical-align: top;\n",
       "    }\n",
       "\n",
       "    .dataframe thead th {\n",
       "        text-align: right;\n",
       "    }\n",
       "</style>\n",
       "<table border=\"1\" class=\"dataframe\">\n",
       "  <thead>\n",
       "    <tr style=\"text-align: right;\">\n",
       "      <th></th>\n",
       "      <th>park_name</th>\n",
       "      <th>the_geom</th>\n",
       "      <th>feat_code</th>\n",
       "      <th>source_id</th>\n",
       "      <th>sub_code</th>\n",
       "      <th>landuse</th>\n",
       "      <th>parknum</th>\n",
       "      <th>status</th>\n",
       "      <th>shape_leng</th>\n",
       "      <th>shape_area</th>\n",
       "      <th>system</th>\n",
       "    </tr>\n",
       "  </thead>\n",
       "  <tbody>\n",
       "    <tr>\n",
       "      <th>0</th>\n",
       "      <td>Commodore Barry Park</td>\n",
       "      <td>(POLYGON ((-73.97922375065221 40.6979987936995...</td>\n",
       "      <td>4910</td>\n",
       "      <td>21491000001</td>\n",
       "      <td>491050</td>\n",
       "      <td>Community Park</td>\n",
       "      <td>B021</td>\n",
       "      <td>Updated</td>\n",
       "      <td>829.420106841</td>\n",
       "      <td>41539.8013629</td>\n",
       "      <td>NaN</td>\n",
       "    </tr>\n",
       "  </tbody>\n",
       "</table>\n",
       "</div>"
      ],
      "text/plain": [
       "              park_name                                           the_geom  \\\n",
       "0  Commodore Barry Park  (POLYGON ((-73.97922375065221 40.6979987936995...   \n",
       "\n",
       "  feat_code    source_id sub_code         landuse parknum   status  \\\n",
       "0      4910  21491000001   491050  Community Park    B021  Updated   \n",
       "\n",
       "      shape_leng     shape_area system  \n",
       "0  829.420106841  41539.8013629    NaN  "
      ]
     },
     "execution_count": 5,
     "metadata": {},
     "output_type": "execute_result"
    }
   ],
   "source": [
    "print(park_df.shape)\n",
    "park_df.head(1)"
   ]
  },
  {
   "cell_type": "markdown",
   "metadata": {},
   "source": [
    "### Step 2: Geocoding data\n",
    "\n",
    "The next step is to [geocode](https://en.wiktionary.org/wiki/geocode) the data – which basically means to assign each park in our data a corresponding zipcode (we could have chosen some other geographic level such as census tract, block, metro, etc.)\n",
    "\n",
    "To do this we will need to download [zip code geometries](https://drive.google.com/file/d/16b3l5_JwUNwr4T9nqoBjKLB30miB6i2-/view?usp=sharing), and then use the centroid of the park to located the zip code it falls within."
   ]
  },
  {
   "cell_type": "code",
   "execution_count": 18,
   "metadata": {},
   "outputs": [
    {
     "name": "stdout",
     "output_type": "stream",
     "text": [
      "(33144, 11)\n"
     ]
    },
    {
     "data": {
      "text/html": [
       "<div>\n",
       "<style scoped>\n",
       "    .dataframe tbody tr th:only-of-type {\n",
       "        vertical-align: middle;\n",
       "    }\n",
       "\n",
       "    .dataframe tbody tr th {\n",
       "        vertical-align: top;\n",
       "    }\n",
       "\n",
       "    .dataframe thead th {\n",
       "        text-align: right;\n",
       "    }\n",
       "</style>\n",
       "<table border=\"1\" class=\"dataframe\">\n",
       "  <thead>\n",
       "    <tr style=\"text-align: right;\">\n",
       "      <th></th>\n",
       "      <th>region_id</th>\n",
       "      <th>ZCTA5CE10</th>\n",
       "      <th>GEOID10</th>\n",
       "      <th>CLASSFP10</th>\n",
       "      <th>MTFCC10</th>\n",
       "      <th>FUNCSTAT10</th>\n",
       "      <th>ALAND</th>\n",
       "      <th>AWATER</th>\n",
       "      <th>INTPTLAT</th>\n",
       "      <th>INTPTLON</th>\n",
       "      <th>geometry</th>\n",
       "    </tr>\n",
       "  </thead>\n",
       "  <tbody>\n",
       "    <tr>\n",
       "      <th>0</th>\n",
       "      <td>53922</td>\n",
       "      <td>53922</td>\n",
       "      <td>53922</td>\n",
       "      <td>B5</td>\n",
       "      <td>G6350</td>\n",
       "      <td>S</td>\n",
       "      <td>118603010</td>\n",
       "      <td>1919478</td>\n",
       "      <td>43.52093</td>\n",
       "      <td>-88.715147</td>\n",
       "      <td>POLYGON ((-88.79170 43.53140, -88.79127 43.531...</td>\n",
       "    </tr>\n",
       "  </tbody>\n",
       "</table>\n",
       "</div>"
      ],
      "text/plain": [
       "  region_id ZCTA5CE10  GEOID10 CLASSFP10 MTFCC10 FUNCSTAT10      ALAND  \\\n",
       "0     53922     53922    53922        B5   G6350          S  118603010   \n",
       "\n",
       "    AWATER  INTPTLAT   INTPTLON  \\\n",
       "0  1919478  43.52093 -88.715147   \n",
       "\n",
       "                                            geometry  \n",
       "0  POLYGON ((-88.79170 43.53140, -88.79127 43.531...  "
      ]
     },
     "execution_count": 18,
     "metadata": {},
     "output_type": "execute_result"
    }
   ],
   "source": [
    "# Load downloaded zip code geo\n",
    "path = 'data/us_zipcodes.geojson' \n",
    "gdf = gpd.read_file(path)\n",
    "print(gdf.shape)\n",
    "gdf.head(1)"
   ]
  },
  {
   "cell_type": "code",
   "execution_count": 7,
   "metadata": {},
   "outputs": [],
   "source": [
    "# Create park centroids\n",
    "park_df['centroid'] = park_df['the_geom'].apply(lambda x: x.centroid)\n",
    "park_gdf = gpd.GeoDataFrame(park_df, geometry='centroid')"
   ]
  },
  {
   "cell_type": "code",
   "execution_count": 8,
   "metadata": {},
   "outputs": [],
   "source": [
    "park_gdf = park_gdf.set_crs(epsg=2263)"
   ]
  },
  {
   "cell_type": "code",
   "execution_count": 23,
   "metadata": {},
   "outputs": [],
   "source": [
    "# Geocode park data\n",
    "combined_gdf = gpd.sjoin(park_gdf, gdf, op='within', how='inner')"
   ]
  },
  {
   "cell_type": "code",
   "execution_count": 25,
   "metadata": {},
   "outputs": [
    {
     "data": {
      "text/html": [
       "<div>\n",
       "<style scoped>\n",
       "    .dataframe tbody tr th:only-of-type {\n",
       "        vertical-align: middle;\n",
       "    }\n",
       "\n",
       "    .dataframe tbody tr th {\n",
       "        vertical-align: top;\n",
       "    }\n",
       "\n",
       "    .dataframe thead th {\n",
       "        text-align: right;\n",
       "    }\n",
       "</style>\n",
       "<table border=\"1\" class=\"dataframe\">\n",
       "  <thead>\n",
       "    <tr style=\"text-align: right;\">\n",
       "      <th></th>\n",
       "      <th>park_name</th>\n",
       "      <th>the_geom</th>\n",
       "      <th>feat_code</th>\n",
       "      <th>source_id</th>\n",
       "      <th>sub_code</th>\n",
       "      <th>landuse</th>\n",
       "      <th>parknum</th>\n",
       "      <th>status</th>\n",
       "      <th>shape_leng</th>\n",
       "      <th>shape_area</th>\n",
       "      <th>...</th>\n",
       "      <th>region_id</th>\n",
       "      <th>ZCTA5CE10</th>\n",
       "      <th>GEOID10</th>\n",
       "      <th>CLASSFP10</th>\n",
       "      <th>MTFCC10</th>\n",
       "      <th>FUNCSTAT10</th>\n",
       "      <th>ALAND</th>\n",
       "      <th>AWATER</th>\n",
       "      <th>INTPTLAT</th>\n",
       "      <th>INTPTLON</th>\n",
       "    </tr>\n",
       "  </thead>\n",
       "  <tbody>\n",
       "    <tr>\n",
       "      <th>0</th>\n",
       "      <td>Commodore Barry Park</td>\n",
       "      <td>(POLYGON ((-73.97922375065221 40.6979987936995...</td>\n",
       "      <td>4910</td>\n",
       "      <td>21491000001</td>\n",
       "      <td>491050</td>\n",
       "      <td>Community Park</td>\n",
       "      <td>B021</td>\n",
       "      <td>Updated</td>\n",
       "      <td>829.420106841</td>\n",
       "      <td>41539.8013629</td>\n",
       "      <td>...</td>\n",
       "      <td>11205</td>\n",
       "      <td>11205</td>\n",
       "      <td>11205</td>\n",
       "      <td>B5</td>\n",
       "      <td>G6350</td>\n",
       "      <td>S</td>\n",
       "      <td>2447347</td>\n",
       "      <td>0</td>\n",
       "      <td>40.694662</td>\n",
       "      <td>-73.966241</td>\n",
       "    </tr>\n",
       "  </tbody>\n",
       "</table>\n",
       "<p>1 rows × 23 columns</p>\n",
       "</div>"
      ],
      "text/plain": [
       "              park_name                                           the_geom  \\\n",
       "0  Commodore Barry Park  (POLYGON ((-73.97922375065221 40.6979987936995...   \n",
       "\n",
       "  feat_code    source_id sub_code         landuse parknum   status  \\\n",
       "0      4910  21491000001   491050  Community Park    B021  Updated   \n",
       "\n",
       "      shape_leng     shape_area  ... region_id ZCTA5CE10  GEOID10 CLASSFP10  \\\n",
       "0  829.420106841  41539.8013629  ...     11205     11205    11205        B5   \n",
       "\n",
       "  MTFCC10  FUNCSTAT10    ALAND AWATER   INTPTLAT   INTPTLON  \n",
       "0   G6350           S  2447347      0  40.694662 -73.966241  \n",
       "\n",
       "[1 rows x 23 columns]"
      ]
     },
     "execution_count": 25,
     "metadata": {},
     "output_type": "execute_result"
    }
   ],
   "source": [
    "combined_gdf.head(1)"
   ]
  },
  {
   "cell_type": "code",
   "execution_count": 76,
   "metadata": {},
   "outputs": [
    {
     "data": {
      "text/plain": [
       "(12229, 23)"
      ]
     },
     "execution_count": 76,
     "metadata": {},
     "output_type": "execute_result"
    }
   ],
   "source": [
    "combined_gdf.shape"
   ]
  },
  {
   "cell_type": "code",
   "execution_count": 78,
   "metadata": {},
   "outputs": [
    {
     "data": {
      "text/plain": [
       "(1217, 23)"
      ]
     },
     "execution_count": 78,
     "metadata": {},
     "output_type": "execute_result"
    }
   ],
   "source": [
    "combined_gdf[combined_gdf['landuse'].isin(\n",
    "    ['Recreation Field/Courts', 'Community Park', \n",
    "     'Garden', 'Playground', 'LARGE PARK AREA'])].shape"
   ]
  },
  {
   "cell_type": "markdown",
   "metadata": {},
   "source": [
    "### Step 3: Aggregate park area by zipcode\n",
    "\n",
    "Next we will calculate the total park area by zipcode."
   ]
  },
  {
   "cell_type": "code",
   "execution_count": 29,
   "metadata": {},
   "outputs": [],
   "source": [
    "# convert 'shape_area' column to a float\n",
    "combined_gdf['shape_area'] = combined_gdf['shape_area'].astype(float)"
   ]
  },
  {
   "cell_type": "code",
   "execution_count": 48,
   "metadata": {},
   "outputs": [],
   "source": [
    "zip_code_park_area = combined_gdf.groupby(\n",
    "    'ZCTA5CE10')['shape_area'].sum().reset_index()"
   ]
  },
  {
   "cell_type": "markdown",
   "metadata": {},
   "source": [
    "### Step 4: Download and merge zipcode income & population data\n",
    "\n",
    "Lets now download [ACS](https://en.wikipedia.org/wiki/American_Community_Survey) population and income level data at the zipcode level. We will use it to surface simple patterns in the data."
   ]
  },
  {
   "cell_type": "code",
   "execution_count": 122,
   "metadata": {},
   "outputs": [
    {
     "data": {
      "text/plain": [
       "(33120, 4)"
      ]
     },
     "execution_count": 122,
     "metadata": {},
     "output_type": "execute_result"
    }
   ],
   "source": [
    "conn = cenpy.products.APIConnection(\"ACSDT5Y2018\")\n",
    "pop_income = conn.query(['B01003_001E', 'B19013_001E', 'B19025_001E'], \n",
    "                  geo_unit='zip code tabulation area')\n",
    "# rename columns for readability\n",
    "pop_income.rename(columns={'zip code tabulation area': 'zcta'}, inplace=True)\n",
    "pop_income.rename(columns={'B01003_001E': 'total_pop',\n",
    "                           'B19013_001E': 'income',\n",
    "                           'B19025_001E': 'agg_income'}, inplace=True)\n",
    "pop_income.shape"
   ]
  },
  {
   "cell_type": "code",
   "execution_count": 140,
   "metadata": {},
   "outputs": [],
   "source": [
    "pop_income.replace(-666666666.0, np.nan, inplace=True)"
   ]
  },
  {
   "cell_type": "code",
   "execution_count": 141,
   "metadata": {},
   "outputs": [],
   "source": [
    "pop_income['total_pop'] = pop_income['total_pop'].astype(float)\n",
    "pop_income['income'] = pop_income['income'].astype(float)\n",
    "pop_income['agg_income'] = pop_income['agg_income'].astype(float)"
   ]
  },
  {
   "cell_type": "code",
   "execution_count": 142,
   "metadata": {},
   "outputs": [],
   "source": [
    "results = zip_code_park_area.merge(pop_income, \n",
    "                                   left_on='ZCTA5CE10', \n",
    "                                   right_on='zcta')"
   ]
  },
  {
   "cell_type": "markdown",
   "metadata": {},
   "source": [
    "### Step 5: Calculate park area and income level per person (per capita)\n",
    "\n",
    "Next we will calculate park area and income level per capita. Per capita reporting is most often used in economic analysis to compare countires with varying population sizes. It gives the ability to compare apples to apples despite those differences."
   ]
  },
  {
   "cell_type": "code",
   "execution_count": 143,
   "metadata": {},
   "outputs": [],
   "source": [
    "results['park_capita'] = results['shape_area'] / results['total_pop']\n",
    "results['income_capita'] = results['income'] / results['total_pop']\n",
    "results['agg_income_capita'] = results['agg_income'] / results['total_pop']"
   ]
  },
  {
   "cell_type": "code",
   "execution_count": 144,
   "metadata": {},
   "outputs": [],
   "source": [
    "results.replace([np.inf, -np.inf], np.nan, inplace=True)"
   ]
  },
  {
   "cell_type": "markdown",
   "metadata": {},
   "source": [
    "### Step 6: Describe the data with simple statistics\n",
    "\n",
    "Finally, now that we have all the data and it's in a format we want, we can begin describing it with simple statistics. For example, we can now plot the average park area per person throughout the city and how the average park area differs by income level, and look at the correlation coefficient between income per capita and park area per capita.\n",
    "\n",
    "*Note: we will save charts as PDF files so that you can further edit them in Illustrator or a similar program. You could do this in Python but it would be beyond the scope of this example.*"
   ]
  },
  {
   "cell_type": "code",
   "execution_count": 145,
   "metadata": {},
   "outputs": [
    {
     "name": "stdout",
     "output_type": "stream",
     "text": [
      "Park area per person in NYC is: 126.46707233920166\n"
     ]
    }
   ],
   "source": [
    "# Average park area per person across NYC\n",
    "print('Park area per person in NYC is: %s' % (results['shape_area'].sum() / results['total_pop'].sum()))"
   ]
  },
  {
   "cell_type": "code",
   "execution_count": 146,
   "metadata": {},
   "outputs": [],
   "source": [
    "above_avg = results[results['agg_income_capita'].quantile(0.5) > results['agg_income_capita']]['park_capita'].mean()\n",
    "below_avg = results[results['agg_income_capita'].quantile(0.5) < results['agg_income_capita']]['park_capita'].mean()"
   ]
  },
  {
   "cell_type": "code",
   "execution_count": 147,
   "metadata": {},
   "outputs": [
    {
     "data": {
      "image/png": "[encoded data removed]",
      "text/plain": [
       "<Figure size 432x288 with 1 Axes>"
      ]
     },
     "metadata": {
      "needs_background": "light"
     },
     "output_type": "display_data"
    }
   ],
   "source": [
    "plt.bar(['above avg income', 'below avg income'], [above_avg, below_avg])\n",
    "plt.title('Per Capita Park Area by Income Level')\n",
    "# Save to a PDF file\n",
    "plt.savefig('per_capita_park_by_income.pdf')"
   ]
  },
  {
   "cell_type": "code",
   "execution_count": 161,
   "metadata": {},
   "outputs": [],
   "source": [
    "above_75 = results[results['agg_income_capita'].quantile(0.75) > results['agg_income_capita']]['park_capita'].mean()\n",
    "below_25 = results[results['agg_income_capita'].quantile(0.25) < results['agg_income_capita']]['park_capita'].mean()"
   ]
  },
  {
   "cell_type": "code",
   "execution_count": 170,
   "metadata": {},
   "outputs": [
    {
     "data": {
      "image/png": "[encoded data removed]",
      "text/plain": [
       "<Figure size 432x288 with 1 Axes>"
      ]
     },
     "metadata": {
      "needs_background": "light"
     },
     "output_type": "display_data"
    }
   ],
   "source": [
    "plt.bar(['above 75th', 'below 25th'], [above_75, below_25])\n",
    "_ = plt.title('Per Capita Park Area by Income Level Quartiles')\n",
    "# Save to a PDF file\n",
    "# plt.savefig('per_capita_park_by_income.pdf')"
   ]
  },
  {
   "cell_type": "code",
   "execution_count": 178,
   "metadata": {},
   "outputs": [
    {
     "data": {
      "text/plain": [
       "(-0.11208446964820368, 0.135229648708372)"
      ]
     },
     "execution_count": 178,
     "metadata": {},
     "output_type": "execute_result"
    }
   ],
   "source": [
    "pearsonr(results.dropna()['agg_income'], \n",
    "         results.dropna()['park_capita'])"
   ]
  },
  {
   "cell_type": "code",
   "execution_count": 190,
   "metadata": {},
   "outputs": [
    {
     "data": {
      "text/plain": [
       "<AxesSubplot:>"
      ]
     },
     "execution_count": 190,
     "metadata": {},
     "output_type": "execute_result"
    },
    {
     "data": {
      "image/png": "[encoded data removed]",
      "text/plain": [
       "<Figure size 720x720 with 2 Axes>"
      ]
     },
     "metadata": {
      "needs_background": "light"
     },
     "output_type": "display_data"
    }
   ],
   "source": [
    "gdf.merge(results, on='ZCTA5CE10').plot(column='park_capita', \n",
    "                                        vmin=0, vmax=500, cmap='Spectral',\n",
    "                                        legend=True, figsize=(10, 10))"
   ]
  }
 ],
 "metadata": {
  "kernelspec": {
   "display_name": "Python 3",
   "language": "python",
   "name": "python3"
  },
  "language_info": {
   "codemirror_mode": {
    "name": "ipython",
    "version": 3
   },
   "file_extension": ".py",
   "mimetype": "text/x-python",
   "name": "python",
   "nbconvert_exporter": "python",
   "pygments_lexer": "ipython3",
   "version": "3.8.5"
  }
 },
 "nbformat": 4,
 "nbformat_minor": 4
}
